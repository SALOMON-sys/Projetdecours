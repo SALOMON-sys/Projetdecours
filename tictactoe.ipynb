{
 "cells": [
  {
   "cell_type": "code",
   "execution_count": 5,
   "id": "01a56080-1398-4bd2-bd6d-e1928672190c",
   "metadata": {},
   "outputs": [],
   "source": [
    "#Importer les bibliothèques nécessaires\n",
    "import tkinter as tk\n",
    "from tkinter import messagebox\n",
    "\n",
    "#Créer la fenêtre principale\n",
    "root = tk.Tk()\n",
    "root.title(\"TIC-TAC-TOE\")\n",
    "\n",
    "#Créer la liste des positions disponibles (1 à 9)\n",
    "chiffres = [1, 2, 3, 4, 5, 6, 7, 8, 9]\n",
    "\n",
    "#Initialiser la variable mark (X ou O)\n",
    "mark = ''\n",
    "\n",
    "#Variable pour compter le nombre de coups joués\n",
    "count = 0\n",
    "\n",
    "#Créer la liste des panneaux (10 cases, le premier est un espace vide)\n",
    "panneaux = [\"panneau\"] + [\"\" for _ in range(9)]\n",
    "\n",
    "#lancer la boucle principale\n",
    "root.mainloop()"
   ]
  }
 ],
 "metadata": {
  "kernelspec": {
   "display_name": "Python 3 (ipykernel)",
   "language": "python",
   "name": "python3"
  },
  "language_info": {
   "codemirror_mode": {
    "name": "ipython",
    "version": 3
   },
   "file_extension": ".py",
   "mimetype": "text/x-python",
   "name": "python",
   "nbconvert_exporter": "python",
   "pygments_lexer": "ipython3",
   "version": "3.13.3"
  }
 },
 "nbformat": 4,
 "nbformat_minor": 5
}
